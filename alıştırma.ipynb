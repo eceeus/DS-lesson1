{
 "cells": [
  {
   "cell_type": "markdown",
   "id": "1445f389",
   "metadata": {},
   "source": [
    "Print komutu"
   ]
  },
  {
   "cell_type": "code",
   "execution_count": 41,
   "id": "0980c2ab",
   "metadata": {},
   "outputs": [
    {
     "name": "stdout",
     "output_type": "stream",
     "text": [
      "I will learn python\n"
     ]
    }
   ],
   "source": [
    "print(\"I will learn python\")"
   ]
  },
  {
   "cell_type": "code",
   "execution_count": 1,
   "id": "35b622f9",
   "metadata": {},
   "outputs": [
    {
     "name": "stdout",
     "output_type": "stream",
     "text": [
      "veri bilimi öğreniyorum\n"
     ]
    }
   ],
   "source": [
    "metin = \"veri bilimi öğreniyorum\"\n",
    "print(metin)"
   ]
  },
  {
   "cell_type": "code",
   "execution_count": 42,
   "id": "7cb4dff0",
   "metadata": {},
   "outputs": [
    {
     "name": "stdout",
     "output_type": "stream",
     "text": [
      "I will \n",
      "learn\n"
     ]
    }
   ],
   "source": [
    "#alt satıra geçme (option + ?) ile \\ yap yanına n yaz\n",
    "print(\"I will \\nlearn\")"
   ]
  },
  {
   "cell_type": "code",
   "execution_count": 43,
   "id": "8835b088",
   "metadata": {},
   "outputs": [
    {
     "name": "stdout",
     "output_type": "stream",
     "text": [
      "My name is \tEce\n"
     ]
    }
   ],
   "source": [
    "#tab mesafesi kadar boşluk bırakma \\t\n",
    "print(\"My name is \\tEce\")"
   ]
  },
  {
   "cell_type": "code",
   "execution_count": 6,
   "id": "78deffa2",
   "metadata": {},
   "outputs": [
    {
     "name": "stdout",
     "output_type": "stream",
     "text": [
      "I'm Ece\n"
     ]
    }
   ],
   "source": [
    "print(\"I\\'m Ece\")"
   ]
  },
  {
   "cell_type": "code",
   "execution_count": 44,
   "id": "56718595",
   "metadata": {},
   "outputs": [
    {
     "name": "stdout",
     "output_type": "stream",
     "text": [
      "My name is Ece , and I'm 23 years old\n",
      "My name is Ece , and I'm 23 years old\n"
     ]
    }
   ],
   "source": [
    "# .format ile yazı içindeki değişkenleri atama\n",
    "print(\"My name is {} , and I'm {} years old\".format(\"Ece\" , 23))\n",
    "# {} ifadelerinin içine index numarası atayabiliriz formatın içinin bir liste olduğunu düşün \n",
    "print(\"My name is {0} , and I'm {1} years old\".format(\"Ece\" , 23))"
   ]
  },
  {
   "cell_type": "markdown",
   "id": "01ac80d6",
   "metadata": {},
   "source": [
    "Değişkenler"
   ]
  },
  {
   "cell_type": "code",
   "execution_count": 45,
   "id": "877cf0f9",
   "metadata": {},
   "outputs": [
    {
     "name": "stdout",
     "output_type": "stream",
     "text": [
      "10\n"
     ]
    }
   ],
   "source": [
    "sayi = 10\n",
    "print(sayi)"
   ]
  },
  {
   "cell_type": "markdown",
   "id": "8b837861",
   "metadata": {},
   "source": [
    "Sayılar\n",
    "- int (tam sayılar)\n",
    "- float (ondalık sayılar)"
   ]
  },
  {
   "cell_type": "code",
   "execution_count": 46,
   "id": "3982f85d",
   "metadata": {},
   "outputs": [
    {
     "data": {
      "text/plain": [
       "int"
      ]
     },
     "execution_count": 46,
     "metadata": {},
     "output_type": "execute_result"
    }
   ],
   "source": [
    "sayi_1 = 3\n",
    "sayi_2 = 3.0\n",
    "type(sayi_1)"
   ]
  },
  {
   "cell_type": "code",
   "execution_count": 47,
   "id": "37f809f3",
   "metadata": {},
   "outputs": [
    {
     "data": {
      "text/plain": [
       "float"
      ]
     },
     "execution_count": 47,
     "metadata": {},
     "output_type": "execute_result"
    }
   ],
   "source": [
    "type(sayi_2)"
   ]
  },
  {
   "cell_type": "markdown",
   "id": "45da3599",
   "metadata": {},
   "source": [
    "Diğer Değişkenler\n",
    "- str (yazı)\n",
    "\"\" veya '' içine yazılmasından anlaşılır\n",
    "- bool (true,false)\n",
    "- list (liste) -> [] içine yazılır \n",
    "örn: [1,2,ece,1]\n",
    "- set (yine bi nevi liste) {} içine yazılır listeden farklı olarak tekrar eden elemanları bir defa yazar\n",
    "örn:{1,2,ece} \n",
    "- dict (dictionary)\n",
    "- tup (tuple) () içine yazılır liste ve set'ten farklı olarak içi kilitli gibi düşün"
   ]
  },
  {
   "cell_type": "code",
   "execution_count": 48,
   "id": "42e45920",
   "metadata": {},
   "outputs": [],
   "source": [
    "first_var = \"Datascience\"\n",
    "second_var = \"Data science\""
   ]
  },
  {
   "cell_type": "markdown",
   "id": "5ca4a2b6",
   "metadata": {},
   "source": [
    "değişkenismi[] ve köşeli parantezin içine index numarası yazarsak o indexi bize print eder"
   ]
  },
  {
   "cell_type": "code",
   "execution_count": 49,
   "id": "7378c62f",
   "metadata": {},
   "outputs": [
    {
     "data": {
      "text/plain": [
       "'D'"
      ]
     },
     "execution_count": 49,
     "metadata": {},
     "output_type": "execute_result"
    }
   ],
   "source": [
    "first_var[0]\n"
   ]
  },
  {
   "cell_type": "markdown",
   "id": "50ad8f7d",
   "metadata": {},
   "source": [
    "[x :] ifadesi x. indexten o stringin sonuna kadar olan elemanların döndürülmesini sağlar aşağıda örneği vardır."
   ]
  },
  {
   "cell_type": "code",
   "execution_count": 50,
   "id": "bbc05b3f",
   "metadata": {},
   "outputs": [
    {
     "data": {
      "text/plain": [
       "'tascience'"
      ]
     },
     "execution_count": 50,
     "metadata": {},
     "output_type": "execute_result"
    }
   ],
   "source": [
    "first_var[2:]"
   ]
  },
  {
   "cell_type": "markdown",
   "id": "ce67083c",
   "metadata": {},
   "source": [
    "[:x] ifadesi x. indexe kadar olan ifadeleri döndürür"
   ]
  },
  {
   "cell_type": "code",
   "execution_count": 51,
   "id": "64b486e9",
   "metadata": {},
   "outputs": [
    {
     "data": {
      "text/plain": [
       "'Data'"
      ]
     },
     "execution_count": 51,
     "metadata": {},
     "output_type": "execute_result"
    }
   ],
   "source": [
    "first_var[:4]"
   ]
  },
  {
   "cell_type": "markdown",
   "id": "f8b2eb42",
   "metadata": {},
   "source": [
    "[x:y] ifadesi ise x.index dahil olmak üzere y.indexe kadar al ama y. dahil değil demek"
   ]
  },
  {
   "cell_type": "code",
   "execution_count": 52,
   "id": "d7e4e585",
   "metadata": {},
   "outputs": [
    {
     "data": {
      "text/plain": [
       "'asci'"
      ]
     },
     "execution_count": 52,
     "metadata": {},
     "output_type": "execute_result"
    }
   ],
   "source": [
    "first_var[3:7]"
   ]
  },
  {
   "cell_type": "markdown",
   "id": "528be136",
   "metadata": {},
   "source": [
    "[x:y:z] ifadesi x.indexten başla y. indexe kadar z kadar atlayarak al demek "
   ]
  },
  {
   "cell_type": "code",
   "execution_count": 53,
   "id": "e18af7c0",
   "metadata": {},
   "outputs": [
    {
     "data": {
      "text/plain": [
       "'aacec'"
      ]
     },
     "execution_count": 53,
     "metadata": {},
     "output_type": "execute_result"
    }
   ],
   "source": [
    "first_var[1:10:2]"
   ]
  },
  {
   "cell_type": "markdown",
   "id": "deee960e",
   "metadata": {},
   "source": [
    "len() parantez içine yazılan değişkenin uzunluğunu döndürür"
   ]
  },
  {
   "cell_type": "code",
   "execution_count": 54,
   "id": "002bca34",
   "metadata": {},
   "outputs": [
    {
     "data": {
      "text/plain": [
       "11"
      ]
     },
     "execution_count": 54,
     "metadata": {},
     "output_type": "execute_result"
    }
   ],
   "source": [
    "len(first_var)"
   ]
  },
  {
   "cell_type": "markdown",
   "id": "a70ec2f6",
   "metadata": {},
   "source": [
    "UPPER ve lower kullanımı"
   ]
  },
  {
   "cell_type": "code",
   "execution_count": 55,
   "id": "675af788",
   "metadata": {},
   "outputs": [
    {
     "data": {
      "text/plain": [
       "'DATASCIENCE'"
      ]
     },
     "execution_count": 55,
     "metadata": {},
     "output_type": "execute_result"
    }
   ],
   "source": [
    "first_var.upper()"
   ]
  },
  {
   "cell_type": "code",
   "execution_count": 56,
   "id": "1539a9bc",
   "metadata": {},
   "outputs": [
    {
     "data": {
      "text/plain": [
       "'datascience'"
      ]
     },
     "execution_count": 56,
     "metadata": {},
     "output_type": "execute_result"
    }
   ],
   "source": [
    "first_var.lower()"
   ]
  },
  {
   "cell_type": "markdown",
   "id": "5f3ab4a0",
   "metadata": {},
   "source": [
    "split kullanımı -> split parantez içinde yaptığın tanımlamaya göre listeleme yapıcak\n",
    "mesela; \n",
    "() olursa metin içinde boşluk gördüğü şekilde olanları farklı eleman olarak algılayıp liste yapar\n",
    "(\"a\") olursa a ya kadar olan yerlerden ayrım yaparak listeleme yapar"
   ]
  },
  {
   "cell_type": "code",
   "execution_count": 57,
   "id": "feee2327",
   "metadata": {},
   "outputs": [
    {
     "data": {
      "text/plain": [
       "['Datascience']"
      ]
     },
     "execution_count": 57,
     "metadata": {},
     "output_type": "execute_result"
    }
   ],
   "source": [
    "first_var.split()"
   ]
  },
  {
   "cell_type": "code",
   "execution_count": 60,
   "id": "488a83bf",
   "metadata": {},
   "outputs": [
    {
     "data": {
      "text/plain": [
       "['D', 't', 'science']"
      ]
     },
     "execution_count": 60,
     "metadata": {},
     "output_type": "execute_result"
    }
   ],
   "source": [
    "first_var.split(\"a\")"
   ]
  },
  {
   "cell_type": "code",
   "execution_count": 61,
   "id": "9e8cf3c1",
   "metadata": {},
   "outputs": [
    {
     "data": {
      "text/plain": [
       "['Datasci', 'nc', '']"
      ]
     },
     "execution_count": 61,
     "metadata": {},
     "output_type": "execute_result"
    }
   ],
   "source": [
    "first_var.split(\"e\")"
   ]
  },
  {
   "cell_type": "code",
   "execution_count": 59,
   "id": "c81a3e2f",
   "metadata": {},
   "outputs": [
    {
     "data": {
      "text/plain": [
       "['Data', 'science']"
      ]
     },
     "execution_count": 59,
     "metadata": {},
     "output_type": "execute_result"
    }
   ],
   "source": [
    "second_var.split()"
   ]
  },
  {
   "cell_type": "markdown",
   "id": "14b1a7fc",
   "metadata": {},
   "source": [
    "Boolean \n",
    "- == eşittir\n",
    "- != eşit değildir"
   ]
  },
  {
   "cell_type": "code",
   "execution_count": 63,
   "id": "be3d33da",
   "metadata": {},
   "outputs": [
    {
     "name": "stdout",
     "output_type": "stream",
     "text": [
      "False\n"
     ]
    }
   ],
   "source": [
    "age_e = 23\n",
    "age_m = 24\n",
    "\n",
    "print(age_e > age_m)"
   ]
  },
  {
   "cell_type": "code",
   "execution_count": 64,
   "id": "0bd7e948",
   "metadata": {},
   "outputs": [
    {
     "data": {
      "text/plain": [
       "True"
      ]
     },
     "execution_count": 64,
     "metadata": {},
     "output_type": "execute_result"
    }
   ],
   "source": [
    "age_m != age_e"
   ]
  },
  {
   "cell_type": "code",
   "execution_count": 2,
   "id": "8df055e2",
   "metadata": {},
   "outputs": [
    {
     "name": "stdout",
     "output_type": "stream",
     "text": [
      "1\n"
     ]
    }
   ],
   "source": [
    "dogru_soz = 1\n",
    "yanlis_soz = 0\n",
    "print(dogru_soz)"
   ]
  },
  {
   "cell_type": "markdown",
   "id": "eede7ed0",
   "metadata": {},
   "source": [
    "List&Set"
   ]
  },
  {
   "cell_type": "code",
   "execution_count": 76,
   "id": "01c5b579",
   "metadata": {},
   "outputs": [
    {
     "data": {
      "text/plain": [
       "['ece', 'melih', 'ankara', 777]"
      ]
     },
     "execution_count": 76,
     "metadata": {},
     "output_type": "execute_result"
    }
   ],
   "source": [
    "mylist = [\"ece\", \"melih\" , \"ankara\" , 777]\n",
    "mylist"
   ]
  },
  {
   "cell_type": "markdown",
   "id": "e1726ea3",
   "metadata": {},
   "source": [
    "append komutu ile listeme ekleme yapabilirim \n",
    "çalışma formatı:\n",
    "- .append(eklemek istediğim eleman)"
   ]
  },
  {
   "cell_type": "code",
   "execution_count": 77,
   "id": "623ed28e",
   "metadata": {},
   "outputs": [
    {
     "data": {
      "text/plain": [
       "['ece', 'melih', 'ankara', 777, 'esk']"
      ]
     },
     "execution_count": 77,
     "metadata": {},
     "output_type": "execute_result"
    }
   ],
   "source": [
    "mylist.append(\"esk\")\n",
    "mylist"
   ]
  },
  {
   "cell_type": "markdown",
   "id": "d678d4c0",
   "metadata": {},
   "source": [
    "pop komutu ile listeye eklenen son eleman atılabilir çalışma formatı:\n",
    "- .pop()\n",
    "- eğer mylist.pop() yazılıp mylist yazdırılmazsa son eklenen elemanı sadece döndürür."
   ]
  },
  {
   "cell_type": "code",
   "execution_count": 78,
   "id": "8ef6401f",
   "metadata": {},
   "outputs": [
    {
     "data": {
      "text/plain": [
       "'esk'"
      ]
     },
     "execution_count": 78,
     "metadata": {},
     "output_type": "execute_result"
    }
   ],
   "source": [
    "mylist.pop()"
   ]
  },
  {
   "cell_type": "code",
   "execution_count": 79,
   "id": "6f692e96",
   "metadata": {},
   "outputs": [
    {
     "data": {
      "text/plain": [
       "['ece', 'melih', 'ankara']"
      ]
     },
     "execution_count": 79,
     "metadata": {},
     "output_type": "execute_result"
    }
   ],
   "source": [
    "mylist.pop()\n",
    "mylist"
   ]
  },
  {
   "cell_type": "code",
   "execution_count": 82,
   "id": "8d4b63da",
   "metadata": {},
   "outputs": [],
   "source": [
    "mylist.append(777)"
   ]
  },
  {
   "cell_type": "code",
   "execution_count": 84,
   "id": "6866219b",
   "metadata": {},
   "outputs": [
    {
     "data": {
      "text/plain": [
       "['ece', 'melih', 'ankara', '777', 777, 'gelecek', 'gelecek']"
      ]
     },
     "execution_count": 84,
     "metadata": {},
     "output_type": "execute_result"
    }
   ],
   "source": [
    "mylist.append(\"gelecek\")\n",
    "mylist"
   ]
  },
  {
   "cell_type": "markdown",
   "id": "1fa20d2b",
   "metadata": {},
   "source": [
    "pop() içine yazdığımız indexe ait elemanı çıkarır"
   ]
  },
  {
   "cell_type": "code",
   "execution_count": 85,
   "id": "4feee968",
   "metadata": {},
   "outputs": [
    {
     "data": {
      "text/plain": [
       "['ece', 'melih', 'ankara', '777', 'gelecek', 'gelecek']"
      ]
     },
     "execution_count": 85,
     "metadata": {},
     "output_type": "execute_result"
    }
   ],
   "source": [
    "mylist.pop(4)\n",
    "mylist"
   ]
  },
  {
   "cell_type": "markdown",
   "id": "5ee45cab",
   "metadata": {},
   "source": [
    "sort() komutu ile sıralama yapabiliriz"
   ]
  },
  {
   "cell_type": "code",
   "execution_count": 88,
   "id": "5b8508d7",
   "metadata": {},
   "outputs": [
    {
     "data": {
      "text/plain": [
       "[0, 12, 32, 456, 876, 12345]"
      ]
     },
     "execution_count": 88,
     "metadata": {},
     "output_type": "execute_result"
    }
   ],
   "source": [
    "numbers = [0,12,456,32,12345,876]\n",
    "numbers.sort()\n",
    "numbers"
   ]
  },
  {
   "cell_type": "markdown",
   "id": "283442dd",
   "metadata": {},
   "source": [
    "reverse() komutu ile de büyükten küçüğe sıralama yaptırabiliriz "
   ]
  },
  {
   "cell_type": "code",
   "execution_count": 91,
   "id": "2677b64e",
   "metadata": {},
   "outputs": [
    {
     "name": "stdout",
     "output_type": "stream",
     "text": [
      "[12345, 876, 456, 32, 12, 0]\n"
     ]
    }
   ],
   "source": [
    "numbers.reverse()\n",
    "print(numbers)"
   ]
  },
  {
   "cell_type": "markdown",
   "id": "2220ed36",
   "metadata": {},
   "source": [
    "set ile sayıların tekrarlayan hallerinin bir defa yazıldığını görüyoruz. çıktıdaki sayılar ise artık süslü parantez ile gösteriliyor"
   ]
  },
  {
   "cell_type": "code",
   "execution_count": 92,
   "id": "9c18e508",
   "metadata": {},
   "outputs": [
    {
     "data": {
      "text/plain": [
       "{0, 12, 32, 456, 876, 12345}"
      ]
     },
     "execution_count": 92,
     "metadata": {},
     "output_type": "execute_result"
    }
   ],
   "source": [
    "set(numbers)"
   ]
  },
  {
   "cell_type": "code",
   "execution_count": 93,
   "id": "e5a72134",
   "metadata": {},
   "outputs": [
    {
     "name": "stdout",
     "output_type": "stream",
     "text": [
      "['ece', 'esk', 26, 1]\n",
      "('ece', 'esk', 26, 1)\n"
     ]
    }
   ],
   "source": [
    "liste = [\"ece\",\"esk\",26,1]\n",
    "print(liste)\n",
    "tup = (\"ece\",\"esk\",26,1)\n",
    "print(tup)"
   ]
  },
  {
   "cell_type": "markdown",
   "id": "29068c99",
   "metadata": {},
   "source": [
    "tupple değişkeni yani tup oluşturulduğu listede değişikliğe izin vermez aşağıda erroru var\n",
    "-  3 tup[0] = \"ecem\"\n",
    "      4 print(tup)\n",
    "\n",
    "TypeError: 'tuple' object does not support item assignment"
   ]
  },
  {
   "cell_type": "code",
   "execution_count": 97,
   "id": "3d14b5bb",
   "metadata": {},
   "outputs": [
    {
     "name": "stdout",
     "output_type": "stream",
     "text": [
      "['ecem', 'esk', 26, 1]\n"
     ]
    }
   ],
   "source": [
    "liste[0] = \"ecem\"\n",
    "print(liste)"
   ]
  },
  {
   "cell_type": "code",
   "execution_count": 98,
   "id": "8fa2e9a4",
   "metadata": {},
   "outputs": [
    {
     "data": {
      "text/plain": [
       "1"
      ]
     },
     "execution_count": 98,
     "metadata": {},
     "output_type": "execute_result"
    }
   ],
   "source": [
    "tup.count(\"ece\")"
   ]
  },
  {
   "cell_type": "code",
   "execution_count": 102,
   "id": "d398ecb5",
   "metadata": {},
   "outputs": [
    {
     "data": {
      "text/plain": [
       "2"
      ]
     },
     "execution_count": 102,
     "metadata": {},
     "output_type": "execute_result"
    }
   ],
   "source": [
    "tup.index(26)"
   ]
  },
  {
   "cell_type": "markdown",
   "id": "ea627fef",
   "metadata": {},
   "source": [
    "Dictionary"
   ]
  },
  {
   "cell_type": "code",
   "execution_count": 109,
   "id": "628c345f",
   "metadata": {},
   "outputs": [
    {
     "name": "stdout",
     "output_type": "stream",
     "text": [
      "{'name': 'Ece', 'surname': 'Us', 'age': 23, 'location': {'hometown': 'Adana', 'lived': 'Eskişehir'}}\n",
      "{'name': 'Melih', 'surname': 'Demirçioğlu', 'age': 24, 'location': {'hometown': 'Mersin', 'lived': 'Eskişehir'}}\n"
     ]
    }
   ],
   "source": [
    "dict_1 = {\n",
    "    \"name\" : \"Ece\",\n",
    "    \"surname\" : \"Us\",\n",
    "    \"age\" : 23,\n",
    "    \"location\" : {\n",
    "        \"hometown\" : \"Adana\",\n",
    "        \"lived\" : \"Eskişehir\"\n",
    "    }\n",
    "}\n",
    "print(dict_1)\n",
    "\n",
    "dict_2 = {\n",
    "    \"name\" : \"Melih\",\n",
    "    \"surname\" : \"Demirçioğlu\",\n",
    "    \"age\" : 24,\n",
    "    \"location\" : {\n",
    "        \"hometown\" : \"Mersin\",\n",
    "        \"lived\" : \"Eskişehir\"\n",
    "    }\n",
    "}\n",
    "print(dict_2)"
   ]
  },
  {
   "cell_type": "code",
   "execution_count": 111,
   "id": "4bd4bc6e",
   "metadata": {},
   "outputs": [
    {
     "data": {
      "text/plain": [
       "'Demirçioğlu'"
      ]
     },
     "execution_count": 111,
     "metadata": {},
     "output_type": "execute_result"
    }
   ],
   "source": [
    "dict_2[\"surname\"]"
   ]
  },
  {
   "cell_type": "code",
   "execution_count": 112,
   "id": "4520167d",
   "metadata": {},
   "outputs": [
    {
     "data": {
      "text/plain": [
       "'Ece'"
      ]
     },
     "execution_count": 112,
     "metadata": {},
     "output_type": "execute_result"
    }
   ],
   "source": [
    "dict_1[\"name\"]"
   ]
  },
  {
   "cell_type": "code",
   "execution_count": 113,
   "id": "2bd99849",
   "metadata": {},
   "outputs": [
    {
     "data": {
      "text/plain": [
       "'Mersin'"
      ]
     },
     "execution_count": 113,
     "metadata": {},
     "output_type": "execute_result"
    }
   ],
   "source": [
    "dict_2[\"location\"][\"hometown\"]"
   ]
  },
  {
   "cell_type": "markdown",
   "id": "946b37bb",
   "metadata": {},
   "source": [
    "dict ile ilgili öğrendiklerim:\n",
    "- okunurluk açısından alt alta yazmaya özen göster\n",
    "- süslü parantez içinde listele\n",
    "- anahtar ve karşılıklarından oluşuyor örn: \"name\" : \"ece\" iken name bir anahtar ece de karşılığı oluyor\n",
    "- anahtarlar ve karşılıkları \"\" veya '' içinde yazılmalı\n",
    "- anahtarları listelerken arada , kullanmayı unutma\n",
    "- içiçe yazman gereken durumlar olduğunda location örneği gibi tekrar {} kullanarak anahtarları yazabilirsin\n",
    "- sonrasında istediğin çıktıyı bulmak için [] kullan "
   ]
  },
  {
   "cell_type": "markdown",
   "id": "e135b9c2",
   "metadata": {},
   "source": [
    "get de dict ile kullanılabilecek metotlar arasındadır aşağıdaki örnekteki gibi çıktı almak mümkündür"
   ]
  },
  {
   "cell_type": "code",
   "execution_count": 114,
   "id": "e61324f8",
   "metadata": {},
   "outputs": [
    {
     "data": {
      "text/plain": [
       "24"
      ]
     },
     "execution_count": 114,
     "metadata": {},
     "output_type": "execute_result"
    }
   ],
   "source": [
    "dict_2.get(\"age\")"
   ]
  },
  {
   "cell_type": "markdown",
   "id": "693d719c",
   "metadata": {},
   "source": [
    "dict'in özelliklerini inceleyecek olursak;\n",
    "- .keys()  : sözlüğe ait anahtarları getirir\n",
    "- .values(): sözlüğe ait anahtarların değerlerini getirir\n",
    "- .items() : sözlükteki her bir satırı yani anahtarı ve değeri getirir"
   ]
  },
  {
   "cell_type": "code",
   "execution_count": 115,
   "id": "cea1707a",
   "metadata": {},
   "outputs": [
    {
     "data": {
      "text/plain": [
       "dict_keys(['name', 'surname', 'age', 'location'])"
      ]
     },
     "execution_count": 115,
     "metadata": {},
     "output_type": "execute_result"
    }
   ],
   "source": [
    "dict_1.keys()"
   ]
  },
  {
   "cell_type": "code",
   "execution_count": 116,
   "id": "a6399940",
   "metadata": {},
   "outputs": [
    {
     "data": {
      "text/plain": [
       "dict_values(['Ece', 'Us', 23, {'hometown': 'Adana', 'lived': 'Eskişehir'}])"
      ]
     },
     "execution_count": 116,
     "metadata": {},
     "output_type": "execute_result"
    }
   ],
   "source": [
    "dict_1.values()"
   ]
  },
  {
   "cell_type": "code",
   "execution_count": 118,
   "id": "d4626c3b",
   "metadata": {},
   "outputs": [
    {
     "data": {
      "text/plain": [
       "dict_items([('name', 'Ece'), ('surname', 'Us'), ('age', 23), ('location', {'hometown': 'Adana', 'lived': 'Eskişehir'})])"
      ]
     },
     "execution_count": 118,
     "metadata": {},
     "output_type": "execute_result"
    }
   ],
   "source": [
    "dict_1.items()"
   ]
  },
  {
   "cell_type": "code",
   "execution_count": null,
   "id": "695de14a",
   "metadata": {},
   "outputs": [],
   "source": []
  }
 ],
 "metadata": {
  "kernelspec": {
   "display_name": "Python 3",
   "language": "python",
   "name": "python3"
  },
  "language_info": {
   "codemirror_mode": {
    "name": "ipython",
    "version": 3
   },
   "file_extension": ".py",
   "mimetype": "text/x-python",
   "name": "python",
   "nbconvert_exporter": "python",
   "pygments_lexer": "ipython3",
   "version": "3.11.11"
  }
 },
 "nbformat": 4,
 "nbformat_minor": 5
}
